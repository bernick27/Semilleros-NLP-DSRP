{
  "nbformat": 4,
  "nbformat_minor": 0,
  "metadata": {
    "colab": {
      "name": "Implementing Text Pre-processing Using NLTK_Semillero NLP-DSRP.ipynb",
      "provenance": []
    },
    "kernelspec": {
      "name": "python3",
      "display_name": "Python 3"
    },
    "language_info": {
      "name": "python"
    }
  },
  "cells": [
    {
      "cell_type": "markdown",
      "metadata": {
        "id": "56_n_PFT2aOB"
      },
      "source": [
        "# **Tokenización**"
      ]
    },
    {
      "cell_type": "code",
      "metadata": {
        "colab": {
          "base_uri": "https://localhost:8080/"
        },
        "id": "YvzPtY4W28re",
        "outputId": "1fec7e99-ced2-4014-ad57-324d8eaf1f68"
      },
      "source": [
        "from nltk.tokenize import sent_tokenize, word_tokenize\n",
        "import nltk\n",
        "nltk.download('punkt')"
      ],
      "execution_count": 4,
      "outputs": [
        {
          "output_type": "stream",
          "name": "stdout",
          "text": [
            "[nltk_data] Downloading package punkt to /root/nltk_data...\n",
            "[nltk_data]   Unzipping tokenizers/punkt.zip.\n"
          ]
        },
        {
          "output_type": "execute_result",
          "data": {
            "text/plain": [
              "True"
            ]
          },
          "metadata": {},
          "execution_count": 4
        }
      ]
    },
    {
      "cell_type": "code",
      "metadata": {
        "id": "EIcYLtNomV4q"
      },
      "source": [
        "text = \"Hi John, how are you doing ? I will be travelling to your city. Lets catchup\""
      ],
      "execution_count": 1,
      "outputs": []
    },
    {
      "cell_type": "code",
      "metadata": {
        "colab": {
          "base_uri": "https://localhost:8080/"
        },
        "id": "uEBww08L2oCA",
        "outputId": "3c17341a-138c-4639-dff6-efcb00cc5f18"
      },
      "source": [
        "sent_tokenize(text)"
      ],
      "execution_count": 5,
      "outputs": [
        {
          "output_type": "execute_result",
          "data": {
            "text/plain": [
              "['Hi John, how are you doing ?',\n",
              " 'I will be travelling to your city.',\n",
              " 'Lets catchup']"
            ]
          },
          "metadata": {},
          "execution_count": 5
        }
      ]
    },
    {
      "cell_type": "code",
      "metadata": {
        "colab": {
          "base_uri": "https://localhost:8080/"
        },
        "id": "Dyra3NOg3Fb8",
        "outputId": "fea8e41f-e652-40c9-dd21-4cc79bea69ec"
      },
      "source": [
        "word_tokenize(text)"
      ],
      "execution_count": 6,
      "outputs": [
        {
          "output_type": "execute_result",
          "data": {
            "text/plain": [
              "['Hi',\n",
              " 'John',\n",
              " ',',\n",
              " 'how',\n",
              " 'are',\n",
              " 'you',\n",
              " 'doing',\n",
              " '?',\n",
              " 'I',\n",
              " 'will',\n",
              " 'be',\n",
              " 'travelling',\n",
              " 'to',\n",
              " 'your',\n",
              " 'city',\n",
              " '.',\n",
              " 'Lets',\n",
              " 'catchup']"
            ]
          },
          "metadata": {},
          "execution_count": 6
        }
      ]
    },
    {
      "cell_type": "markdown",
      "metadata": {
        "id": "r-uj-1hx3dA9"
      },
      "source": [
        "# **Stemming**"
      ]
    },
    {
      "cell_type": "code",
      "metadata": {
        "id": "46NTLpid3XB9"
      },
      "source": [
        "from nltk.stem import PorterStemmer\n",
        "\n",
        "stemmer = PorterStemmer()"
      ],
      "execution_count": 8,
      "outputs": []
    },
    {
      "cell_type": "code",
      "metadata": {
        "colab": {
          "base_uri": "https://localhost:8080/"
        },
        "id": "KphobdGt3p_M",
        "outputId": "bf9994da-52d0-459e-f520-edcfd138b8ff"
      },
      "source": [
        "print(stemmer.stem(\"playing\"))"
      ],
      "execution_count": 9,
      "outputs": [
        {
          "output_type": "stream",
          "name": "stdout",
          "text": [
            "play\n"
          ]
        }
      ]
    },
    {
      "cell_type": "code",
      "metadata": {
        "colab": {
          "base_uri": "https://localhost:8080/"
        },
        "id": "oTUTiiDU3yws",
        "outputId": "ed0c58cb-6c7e-49dd-caac-fb4206f4af49"
      },
      "source": [
        "print(stemmer.stem(\"plays\"))"
      ],
      "execution_count": 10,
      "outputs": [
        {
          "output_type": "stream",
          "name": "stdout",
          "text": [
            "play\n"
          ]
        }
      ]
    },
    {
      "cell_type": "code",
      "metadata": {
        "colab": {
          "base_uri": "https://localhost:8080/"
        },
        "id": "gDTPZLEp31ms",
        "outputId": "4d4964b9-f382-4095-9657-e2ff8a5059ac"
      },
      "source": [
        "print(stemmer.stem(\"played\"))"
      ],
      "execution_count": 11,
      "outputs": [
        {
          "output_type": "stream",
          "name": "stdout",
          "text": [
            "play\n"
          ]
        }
      ]
    },
    {
      "cell_type": "code",
      "metadata": {
        "colab": {
          "base_uri": "https://localhost:8080/"
        },
        "id": "E9VVscJM33d8",
        "outputId": "4d93a6e4-b2da-4b8f-9b28-1d6d7d2dcc32"
      },
      "source": [
        "print(stemmer.stem(\"increases\"))"
      ],
      "execution_count": 12,
      "outputs": [
        {
          "output_type": "stream",
          "name": "stdout",
          "text": [
            "increas\n"
          ]
        }
      ]
    },
    {
      "cell_type": "markdown",
      "metadata": {
        "id": "-Wg0w_7P4N9l"
      },
      "source": [
        "# **Lemmatization**"
      ]
    },
    {
      "cell_type": "code",
      "metadata": {
        "colab": {
          "base_uri": "https://localhost:8080/"
        },
        "id": "ZQce4UOp4H89",
        "outputId": "12836f5c-0631-4f01-a0a8-92408b0f7591"
      },
      "source": [
        "from nltk.stem import WordNetLemmatizer\n",
        "import nltk\n",
        "nltk.download('wordnet')\n",
        "\n",
        "lemm = WordNetLemmatizer()"
      ],
      "execution_count": 16,
      "outputs": [
        {
          "output_type": "stream",
          "name": "stdout",
          "text": [
            "[nltk_data] Downloading package wordnet to /root/nltk_data...\n",
            "[nltk_data]   Unzipping corpora/wordnet.zip.\n"
          ]
        }
      ]
    },
    {
      "cell_type": "code",
      "metadata": {
        "colab": {
          "base_uri": "https://localhost:8080/"
        },
        "id": "Gz9OZTBt4V29",
        "outputId": "0a5b1641-4773-4ef7-a6a5-9ec5482f57d0"
      },
      "source": [
        "print(lemm.lemmatize(\"increases\"))"
      ],
      "execution_count": 17,
      "outputs": [
        {
          "output_type": "stream",
          "name": "stdout",
          "text": [
            "increase\n"
          ]
        }
      ]
    },
    {
      "cell_type": "code",
      "metadata": {
        "colab": {
          "base_uri": "https://localhost:8080/"
        },
        "id": "CiZihyaZ4czc",
        "outputId": "2dc8a746-af55-4b97-ad86-c567140bcc50"
      },
      "source": [
        "print(lemm.lemmatize(\"running\"))"
      ],
      "execution_count": 18,
      "outputs": [
        {
          "output_type": "stream",
          "name": "stdout",
          "text": [
            "running\n"
          ]
        }
      ]
    },
    {
      "cell_type": "code",
      "metadata": {
        "colab": {
          "base_uri": "https://localhost:8080/"
        },
        "id": "ONkHhky04lfN",
        "outputId": "886fca35-e37c-4618-918f-1307540ffa51"
      },
      "source": [
        "print(lemm.lemmatize(\"running\", pos=\"v\"))"
      ],
      "execution_count": 20,
      "outputs": [
        {
          "output_type": "stream",
          "name": "stdout",
          "text": [
            "run\n"
          ]
        }
      ]
    },
    {
      "cell_type": "markdown",
      "metadata": {
        "id": "nsN0iU4T43iO"
      },
      "source": [
        "# **POS Tags**"
      ]
    },
    {
      "cell_type": "code",
      "metadata": {
        "colab": {
          "base_uri": "https://localhost:8080/"
        },
        "id": "AODQbdo34tXd",
        "outputId": "c8aac626-0ce3-4275-c245-9ee59c8381fa"
      },
      "source": [
        "from nltk import pos_tag\n",
        "import nltk\n",
        "nltk.download('averaged_perceptron_tagger')"
      ],
      "execution_count": 24,
      "outputs": [
        {
          "output_type": "stream",
          "name": "stdout",
          "text": [
            "[nltk_data] Downloading package averaged_perceptron_tagger to\n",
            "[nltk_data]     /root/nltk_data...\n",
            "[nltk_data]   Unzipping taggers/averaged_perceptron_tagger.zip.\n"
          ]
        },
        {
          "output_type": "execute_result",
          "data": {
            "text/plain": [
              "True"
            ]
          },
          "metadata": {},
          "execution_count": 24
        }
      ]
    },
    {
      "cell_type": "code",
      "metadata": {
        "id": "maM97Q2C4_BN"
      },
      "source": [
        "tokens = word_tokenize(text)"
      ],
      "execution_count": 22,
      "outputs": []
    },
    {
      "cell_type": "code",
      "metadata": {
        "colab": {
          "base_uri": "https://localhost:8080/"
        },
        "id": "x9mI4xTQ5CZd",
        "outputId": "0ae15fa1-d0e7-4e78-9df1-c730f380ed71"
      },
      "source": [
        "pos_tag(tokens)"
      ],
      "execution_count": 25,
      "outputs": [
        {
          "output_type": "execute_result",
          "data": {
            "text/plain": [
              "[('Hi', 'NNP'),\n",
              " ('John', 'NNP'),\n",
              " (',', ','),\n",
              " ('how', 'WRB'),\n",
              " ('are', 'VBP'),\n",
              " ('you', 'PRP'),\n",
              " ('doing', 'VBG'),\n",
              " ('?', '.'),\n",
              " ('I', 'PRP'),\n",
              " ('will', 'MD'),\n",
              " ('be', 'VB'),\n",
              " ('travelling', 'VBG'),\n",
              " ('to', 'TO'),\n",
              " ('your', 'PRP$'),\n",
              " ('city', 'NN'),\n",
              " ('.', '.'),\n",
              " ('Lets', 'VBZ'),\n",
              " ('catchup', 'JJ')]"
            ]
          },
          "metadata": {},
          "execution_count": 25
        }
      ]
    },
    {
      "cell_type": "markdown",
      "metadata": {
        "id": "KTUDLfrI5YgK"
      },
      "source": [
        "# **N-grams**"
      ]
    },
    {
      "cell_type": "code",
      "metadata": {
        "id": "xQap11N-5Dsd"
      },
      "source": [
        "from nltk  import ngrams\n",
        "from nltk.tokenize import sent_tokenize, word_tokenize"
      ],
      "execution_count": 27,
      "outputs": []
    },
    {
      "cell_type": "code",
      "metadata": {
        "id": "lhM2oU9e5fjd"
      },
      "source": [
        "sentence = \"I love to play football\""
      ],
      "execution_count": 28,
      "outputs": []
    },
    {
      "cell_type": "code",
      "metadata": {
        "colab": {
          "base_uri": "https://localhost:8080/"
        },
        "id": "Kvj9Vsc85n0t",
        "outputId": "398fe83b-bba4-4a14-cdf2-f0c6efec8d97"
      },
      "source": [
        "n=2\n",
        "for gram in ngrams(word_tokenize(sentence), n):\n",
        "  print(gram)"
      ],
      "execution_count": 29,
      "outputs": [
        {
          "output_type": "stream",
          "name": "stdout",
          "text": [
            "('I', 'love')\n",
            "('love', 'to')\n",
            "('to', 'play')\n",
            "('play', 'football')\n"
          ]
        }
      ]
    },
    {
      "cell_type": "code",
      "metadata": {
        "id": "MGh_4Pef5xJ9"
      },
      "source": [
        ""
      ],
      "execution_count": null,
      "outputs": []
    }
  ]
}